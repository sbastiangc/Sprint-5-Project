{
 "cells": [
  {
   "cell_type": "code",
   "execution_count": 22,
   "metadata": {},
   "outputs": [],
   "source": [
    "import pandas as pd\n",
    "import plotly.express as px\n",
    "import streamlit as st\n"
   ]
  },
  {
   "cell_type": "markdown",
   "metadata": {},
   "source": [
    "### Sprint 5 Exploración de datos Anuncios de Venta de vehículos"
   ]
  },
  {
   "cell_type": "code",
   "execution_count": null,
   "metadata": {},
   "outputs": [],
   "source": [
    "car_data = pd.read_csv('../vehicles_us.csv') # leer los datos\n",
    "car_data.head(5)"
   ]
  },
  {
   "cell_type": "markdown",
   "metadata": {},
   "source": [
    "### Script Python para construir la aplicación web que contenga al menos\n",
    "\n",
    "1) un histograma\n",
    "2) un gráfico de dispersión\n",
    "3) un encabezado con texto\n",
    "4) un botón y una casilla de verificación \n"
   ]
  },
  {
   "cell_type": "code",
   "execution_count": null,
   "metadata": {},
   "outputs": [],
   "source": [
    "# Introducir un header\n",
    "st.header('Estudio anuncios de venta de vehículos')\n",
    "\n",
    "# historgrama\n",
    "car_data = pd.read_csv('vehicles_us.csv')  # leer los datos\n",
    "\n",
    "hist_var = list(car_data.columns.values)\n",
    "selected_var = st.selectbox(\"Seleccionar una variable\", hist_var)\n",
    "st.write('Crea una gráfica para conocer más acerca de los anuncios')\n",
    "\n",
    "hist_button = st.button('Construir histograma')  # crear un botón\n",
    "\n",
    "\n",
    "def histogram():\n",
    "\n",
    "    if hist_button:  # al hacer clic en el botón\n",
    "        # escribir un mensaje\n",
    "\n",
    "        # crear un histograma\n",
    "        fig = px.histogram(car_data, selected_var, color=\"condition\",\n",
    "                           title=f\"Histograma de: {selected_var} por cada categoría de condición\")\n",
    "\n",
    "        # mostrar un gráfico Plotly interactivo\n",
    "        st.plotly_chart(fig, use_container_width=True, theme=None)\n",
    "\n",
    "\n",
    "# ejecutar funcion de histograma\n",
    "if hist_button:\n",
    "    histogram()\n",
    "\n",
    "\n",
    "# grafico de dispersion\n",
    "show_scatter_checkbox = st.checkbox(\n",
    "    \"Gráfico de Dispersión de Precio vs. Año vs. Condición para cada modelo\")\n",
    "\n",
    "\n",
    "# definir un grafico de dispersion interactivo\n",
    "# filtros para el grafico\n",
    "def dispersion():\n",
    "\n",
    "    car_type = car_data['type'].unique()\n",
    "    car_model = car_data['model'].unique()\n",
    "\n",
    "    if show_scatter_checkbox:\n",
    "        # variables para selecion del usuario\n",
    "        selected_type = st.selectbox(\"Seleccionar tipo de automóvil\", car_type)\n",
    "\n",
    "        car_model = car_data[car_data['type']\n",
    "                             == selected_type]['model'].unique()\n",
    "        # car_model = car_data['model'].unique()\n",
    "\n",
    "        seleceted_model = st.selectbox(\n",
    "            \"Seleccionar modelo de automóvil\", car_model)\n",
    "\n",
    "        # data frame a graficar\n",
    "        filtered_data = car_data[(car_data['type'] == selected_type) & (\n",
    "            car_data['model'] == seleceted_model)]\n",
    "\n",
    "        # crear grafico de dispersion\n",
    "        fig = px.scatter(filtered_data, x=\"model_year\", y=\"price\", color=\"condition\",\n",
    "                         title=f\"Gráfico de Dispersión de Precio vs. Año por condición del Modelo: {selected_type} - {seleceted_model}\")\n",
    "        st.plotly_chart(fig, use_container_width=True)\n",
    "\n",
    "\n",
    "# ejecutar grafico de dispersion\n",
    "if show_scatter_checkbox:\n",
    "    dispersion()\n"
   ]
  }
 ],
 "metadata": {
  "kernelspec": {
   "display_name": "vehicles_env",
   "language": "python",
   "name": "python3"
  },
  "language_info": {
   "codemirror_mode": {
    "name": "ipython",
    "version": 3
   },
   "file_extension": ".py",
   "mimetype": "text/x-python",
   "name": "python",
   "nbconvert_exporter": "python",
   "pygments_lexer": "ipython3",
   "version": "0.0.0"
  }
 },
 "nbformat": 4,
 "nbformat_minor": 2
}
